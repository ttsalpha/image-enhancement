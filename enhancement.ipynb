{
 "cells": [
  {
   "cell_type": "markdown",
   "metadata": {
    "pycharm": {
     "name": "#%% md\n"
    }
   },
   "source": [
    "## Image Enhancement By Edge-Preserving Filters"
   ]
  },
  {
   "cell_type": "markdown",
   "metadata": {
    "collapsed": true,
    "pycharm": {
     "name": "#%% md\n"
    }
   },
   "source": [
    "Loading libraries"
   ]
  },
  {
   "cell_type": "code",
   "execution_count": null,
   "metadata": {
    "pycharm": {
     "name": "#%%\n"
    }
   },
   "outputs": [],
   "source": [
    "import numpy as np\n",
    "import matplotlib.pyplot as plt\n",
    "from skimage.util.shape import view_as_windows"
   ]
  },
  {
   "cell_type": "markdown",
   "metadata": {},
   "source": [
    "Loading image"
   ]
  },
  {
   "cell_type": "code",
   "execution_count": null,
   "metadata": {
    "pycharm": {
     "name": "#%%\n"
    }
   },
   "outputs": [],
   "source": [
    "im = plt.imread('assets/cameraman.png')\n",
    "type(im)\n",
    "im.shape, im.dtype\n",
    "# The first two indices represent the Y and X position of a pixel,\n",
    "# and the third represents the RGB colour value of the pixel."
   ]
  },
  {
   "cell_type": "code",
   "execution_count": null,
   "metadata": {
    "pycharm": {
     "name": "#%%\n"
    }
   },
   "outputs": [],
   "source": [
    "plt.imshow(im, cmap=plt.cm.gray)\n",
    "plt.show()"
   ]
  },
  {
   "cell_type": "code",
   "execution_count": null,
   "metadata": {
    "pycharm": {
     "name": "#%%\n"
    }
   },
   "outputs": [],
   "source": [
    "# temp (round 'image')\n",
    "im_data = np.asarray(np.round(im, 2))\n",
    "print(type(im_data))\n",
    "print(im_data)"
   ]
  },
  {
   "cell_type": "markdown",
   "metadata": {
    "pycharm": {
     "name": "#%% md\n"
    }
   },
   "source": [
    "$$w_i = e^{-\\alpha\\|\\mathbf x_i-\\mathbf x\\|_2^2}$$"
   ]
  },
  {
   "cell_type": "code",
   "execution_count": null,
   "metadata": {
    "pycharm": {
     "name": "#%%\n"
    }
   },
   "outputs": [],
   "source": [
    "wi = []\n",
    "\n",
    "\n",
    "def prefix_wi():\n",
    "    for i in range(3):\n",
    "        for j in range(3):\n",
    "            # if [i, j] != [1, 1]:\n",
    "            norm = np.linalg.norm(np.array([i, j]) - np.array([1, 1]))\n",
    "            wi.append(np.exp(-0.5 * norm))\n",
    "\n",
    "\n",
    "prefix_wi()\n",
    "print(wi)\n",
    "sum_wi = sum(wi)\n",
    "print(sum_wi)"
   ]
  },
  {
   "cell_type": "markdown",
   "metadata": {
    "pycharm": {
     "name": "#%% md\n"
    }
   },
   "source": [
    "$$\\overline y=\\frac{\\sum_i y_iw_i}{\\sum_i w_i}$$"
   ]
  },
  {
   "cell_type": "code",
   "execution_count": null,
   "metadata": {
    "pycharm": {
     "name": "#%%\n"
    }
   },
   "outputs": [],
   "source": [
    "def overline_y(block):\n",
    "    multi, count = 0, 0\n",
    "    for i in range(3):\n",
    "        for j in range(3):\n",
    "            multi += block[i][j] * wi[count]\n",
    "            count += 1\n",
    "    return multi / sum_wi"
   ]
  },
  {
   "cell_type": "markdown",
   "metadata": {
    "pycharm": {
     "name": "#%% md\n"
    }
   },
   "source": [
    "$$\\beta=(2\\sigma_y^2)^{-1}$$\n",
    "\n",
    "$$\\sigma_y^2=\\frac{\\sum_i(\\overline y-y)^{-2}w_i}{\\sum_i w_i}$$"
   ]
  },
  {
   "cell_type": "code",
   "execution_count": null,
   "metadata": {
    "pycharm": {
     "name": "#%%\n"
    }
   },
   "outputs": [],
   "source": [
    "def beta(block):\n",
    "    y = overline_y(block)\n",
    "    sigma = 0\n",
    "    count = 0\n",
    "    for i in range(3):\n",
    "        for j in range(3):\n",
    "            sigma += block[i][j] ** -2 * wi[count]\n",
    "            count += 1\n",
    "    return 1 / (2 * (sigma / sum_wi))"
   ]
  },
  {
   "cell_type": "markdown",
   "metadata": {
    "pycharm": {
     "name": "#%% md\n"
    }
   },
   "source": [
    "$$y=\\sum_i \\frac {y_iw_ie^{-\\beta(y_i-y)^2}}{\\sum_j w_je^{-\\beta(y_j-y)^2}}$$"
   ]
  },
  {
   "cell_type": "code",
   "execution_count": null,
   "metadata": {
    "pycharm": {
     "name": "#%%\n"
    }
   },
   "outputs": [],
   "source": [
    "def output_y(block):\n",
    "    b = beta(block)\n",
    "    sum_down = 0\n",
    "    count = 0\n",
    "    for i in range(3):\n",
    "        for j in range(3):\n",
    "            sum_down += wi[count] * np.exp(-b * (block[i][j] - block[1][1]) ** 2)\n",
    "            count += 1\n",
    "\n",
    "    y = 0\n",
    "    count = 0\n",
    "    for i in range(3):\n",
    "        for j in range(3):\n",
    "            y += (block[i][j] * wi[count] * np.exp(-b * (block[i][j] - block[1][1]) ** 2)) / sum_down\n",
    "\n",
    "    return y"
   ]
  },
  {
   "cell_type": "code",
   "execution_count": null,
   "metadata": {
    "pycharm": {
     "name": "#%%\n"
    }
   },
   "outputs": [],
   "source": [
    "def mean(block):\n",
    "    sigma = []\n",
    "    for i in block:\n",
    "        sigma = np.append(sigma, overline_y(i))\n",
    "    return sigma"
   ]
  },
  {
   "cell_type": "code",
   "execution_count": null,
   "metadata": {
    "pycharm": {
     "name": "#%%\n"
    }
   },
   "outputs": [],
   "source": [
    "def variance(block):\n",
    "    sigma = []\n",
    "    for i in block:\n",
    "        sigma = np.append(sigma, output_y(i))\n",
    "    return sigma"
   ]
  },
  {
   "cell_type": "markdown",
   "metadata": {
    "pycharm": {
     "name": "#%% md\n"
    }
   },
   "source": [
    "- Expand edge image using opencv"
   ]
  },
  {
   "cell_type": "code",
   "execution_count": null,
   "metadata": {
    "pycharm": {
     "name": "#%%\n"
    }
   },
   "outputs": [],
   "source": [
    "import cv2\n",
    "\n",
    "\n",
    "def expand(image, b):\n",
    "    im_expand = cv2.copyMakeBorder(image, b, b, b, b, cv2.BORDER_REPLICATE)\n",
    "    print(im_expand.shape)\n",
    "    # plt.imshow(im_expand, cmap=plt.cm.gray, interpolation='nearest')\n",
    "    # plt.show()\n",
    "    return im_expand"
   ]
  },
  {
   "cell_type": "markdown",
   "metadata": {},
   "source": [
    "- Filter a given image $I$ using $\\alpha = 1/2$ recursively k times to obtain $I_i$. \n",
    "\n",
    "- Compute the local mean $M$ and variance $V$ for every pixel of $I_d$ . The size of the local neighbor-hood is 40 x 40 pixels in all our examples.\n",
    "\n",
    "$$I_m(\\mathbf x)=\\begin{cases} {I_i(\\mathbf x)} &\\text {if } |I_d(\\mathbf x)-M(\\mathbf x)| < 2.5V(\\mathbf x)\\\\ I(\\mathbf x) & \\text{otherwise}\\end{cases}$$"
   ]
  },
  {
   "cell_type": "code",
   "execution_count": null,
   "metadata": {
    "pycharm": {
     "name": "#%%\n"
    }
   },
   "outputs": [],
   "source": [
    "def enhancement():\n",
    "    im_expand = expand(im, 1)\n",
    "    w, h = im_expand.shape\n",
    "\n",
    "    list_block = view_as_windows(im_expand, (3, 3))\n",
    "    # print(list_block)\n",
    "\n",
    "    # i_i = list(range(0, multi))\n",
    "    i_i = np.zeros((h - 2, w - 2))\n",
    "\n",
    "    for i in range(h - 2):\n",
    "        for j in range(w - 2):\n",
    "            i_i[i][j] = output_y(list_block[i][j])\n",
    "\n",
    "    i_d = np.zeros((h - 2, w - 2))\n",
    "    # i_d = list(range(0, (h - 2) * (w - 2)))\n",
    "    i_d = np.reshape(i_d, (h - 2, w - 2))\n",
    "\n",
    "    # Compute the difference signal I_d = I - I_i.\n",
    "    for i in range(len(i_d)):\n",
    "        i_d[i] = im[i] - i_i[i]\n",
    "\n",
    "    i_m = np.zeros((h - 2, w - 2))\n",
    "    mark_id = np.zeros((40, 40))\n",
    "\n",
    "    im_expand_2 = expand(i_d, 20)\n",
    "    list_block_2 = view_as_windows(im_expand, (40, 40))\n",
    "\n",
    "    print(im_expand_2.shape)\n",
    "\n",
    "    for i in range(h - 2):\n",
    "        for j in range(w - 2):\n",
    "            mark = list_block_2[i + 20][j + 20]\n",
    "            if np.abs(i_d[i][j] - mean(mark)) < 2.5 * variance(mark):\n",
    "                i_m = i_i[i][j]\n",
    "            else:\n",
    "                i_m = im[i][j]\n",
    "\n",
    "    result = np.zeros((h - 2, w - 2))\n",
    "\n",
    "    # Compute Io = I - sIm; s = 0.5\n",
    "    for i in range(h - 2):\n",
    "        for j in range(w - 2):\n",
    "            result[i][j] = im[i][j] - 0.5 * i_m[i][j]\n",
    "\n",
    "    # exit - covert array to image\n",
    "    plt.imshow(result, cmap=plt.cm.gray, interpolation='nearest')\n",
    "    plt.show()\n",
    "\n",
    "\n",
    "if __name__ == '__main__':\n",
    "    enhancement()\n",
    "\n"
   ]
  }
 ],
 "metadata": {
  "kernelspec": {
   "display_name": "Python 3 (ipykernel)",
   "language": "python",
   "name": "python3"
  },
  "language_info": {
   "codemirror_mode": {
    "name": "ipython",
    "version": 3
   },
   "file_extension": ".py",
   "mimetype": "text/x-python",
   "name": "python",
   "nbconvert_exporter": "python",
   "pygments_lexer": "ipython3",
   "version": "3.9.8"
  },
  "widgets": {
   "application/vnd.jupyter.widget-state+json": {
    "state": {},
    "version_major": 2,
    "version_minor": 0
   }
  }
 },
 "nbformat": 4,
 "nbformat_minor": 1
}